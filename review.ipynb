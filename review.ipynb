{
 "cells": [
  {
   "cell_type": "code",
   "execution_count": 5,
   "metadata": {},
   "outputs": [],
   "source": [
    "import cv2 as cv\n",
    "import numpy as np\n",
    "img = cv.imread(\"images/AA.png\")\n",
    "\n",
    "kernel = np.ones((3,3), dtype = np.uint8)\n",
    "# dilate_1 = cv.dilate(img, kernel, iterations=1)\n",
    "# dilate_2 = cv.dilate(img, kernel, iterations=2)\n",
    "dilate_3 = cv.dilate(img, kernel, iterations=3)\n",
    "erode_3 = cv.erode(dilate_3, kernel, iterations=3)\n",
    "# cv.imshow(\"1\", dilate_1)\n",
    "# cv.imshow(\"2\", dilate_2)\n",
    "cv.imshow(\"3\", dilate_3)\n",
    "cv.imshow(\"2\", erode_3)\n",
    "\n",
    "\n",
    "cv.waitKey(0)\n",
    "cv.destroyAllWindows()"
   ]
  },
  {
   "cell_type": "code",
   "execution_count": 3,
   "metadata": {},
   "outputs": [
    {
     "ename": "error",
     "evalue": "OpenCV(4.10.0) D:\\a\\opencv-python\\opencv-python\\opencv\\modules\\imgproc\\src\\imgwarp.cpp:3624: error: (-215:Assertion failed) src.checkVector(2, CV_32F) == 4 && dst.checkVector(2, CV_32F) == 4 in function 'cv::getPerspectiveTransform'\n",
     "output_type": "error",
     "traceback": [
      "\u001b[1;31m---------------------------------------------------------------------------\u001b[0m",
      "\u001b[1;31merror\u001b[0m                                     Traceback (most recent call last)",
      "Cell \u001b[1;32mIn[3], line 10\u001b[0m\n\u001b[0;32m      8\u001b[0m src \u001b[38;5;241m=\u001b[39m np\u001b[38;5;241m.\u001b[39marray([[],[],[],[]], dtype\u001b[38;5;241m=\u001b[39mnp\u001b[38;5;241m.\u001b[39mfloat32)\n\u001b[0;32m      9\u001b[0m target \u001b[38;5;241m=\u001b[39m np\u001b[38;5;241m.\u001b[39marray([[\u001b[38;5;241m0\u001b[39m,\u001b[38;5;241m0\u001b[39m],[width,\u001b[38;5;241m0\u001b[39m],[width,height],[\u001b[38;5;241m0\u001b[39m,height]], dtype\u001b[38;5;241m=\u001b[39mnp\u001b[38;5;241m.\u001b[39mfloat32)\n\u001b[1;32m---> 10\u001b[0m mat \u001b[38;5;241m=\u001b[39m\u001b[43mcv\u001b[49m\u001b[38;5;241;43m.\u001b[39;49m\u001b[43mgetPerspectiveTransform\u001b[49m\u001b[43m(\u001b[49m\u001b[43msrc\u001b[49m\u001b[43m,\u001b[49m\u001b[43m \u001b[49m\u001b[43mtarget\u001b[49m\u001b[43m)\u001b[49m\n\u001b[0;32m     11\u001b[0m result \u001b[38;5;241m=\u001b[39m cv\u001b[38;5;241m.\u001b[39mwarpPerspective(img, mat, (width, height))\n\u001b[0;32m     13\u001b[0m cv\u001b[38;5;241m.\u001b[39mwaitKey(\u001b[38;5;241m0\u001b[39m)\n",
      "\u001b[1;31merror\u001b[0m: OpenCV(4.10.0) D:\\a\\opencv-python\\opencv-python\\opencv\\modules\\imgproc\\src\\imgwarp.cpp:3624: error: (-215:Assertion failed) src.checkVector(2, CV_32F) == 4 && dst.checkVector(2, CV_32F) == 4 in function 'cv::getPerspectiveTransform'\n"
     ]
    }
   ],
   "source": [
    "import cv2 as cv\n",
    "import numpy as np\n",
    "\n",
    "img = cv.imread(\"images/AA.png\")\n",
    "cv.imshow(\"card\", img)\n",
    "\n",
    "width, height = 600, 350\n",
    "src = np.array([[],[],[],[]], dtype=np.float32)\n",
    "target = np.array([[0,0],[width,0],[width,height],[0,height]], dtype=np.float32)\n",
    "mat =cv.getPerspectiveTransform(src, target)\n",
    "result = cv.warpPerspective(img, mat, (width, height))\n",
    "\n",
    "cv.waitKey(0)\n",
    "cv.destroyAllWindows()\n"
   ]
  },
  {
   "cell_type": "code",
   "execution_count": 9,
   "metadata": {},
   "outputs": [
    {
     "ename": "error",
     "evalue": "OpenCV(4.10.0) D:\\a\\opencv-python\\opencv-python\\opencv\\modules\\highgui\\src\\window_w32.cpp:2561: error: (-27:Null pointer) NULL window: 'Threshold' in function 'cvGetTrackbarPos'\n",
     "output_type": "error",
     "traceback": [
      "\u001b[1;31m---------------------------------------------------------------------------\u001b[0m",
      "\u001b[1;31merror\u001b[0m                                     Traceback (most recent call last)",
      "Cell \u001b[1;32mIn[9], line 13\u001b[0m\n\u001b[0;32m      9\u001b[0m cv\u001b[38;5;241m.\u001b[39mcreateTrackbar(\u001b[38;5;124m\"\u001b[39m\u001b[38;5;124mThreshold\u001b[39m\u001b[38;5;124m\"\u001b[39m, name, \u001b[38;5;241m127\u001b[39m, \u001b[38;5;241m255\u001b[39m, \u001b[38;5;28;01mlambda\u001b[39;00m x: \u001b[38;5;28;01mNone\u001b[39;00m)\n\u001b[0;32m     11\u001b[0m \u001b[38;5;28;01mwhile\u001b[39;00m \u001b[38;5;28;01mTrue\u001b[39;00m:\n\u001b[0;32m     12\u001b[0m     \u001b[38;5;66;03m# 트랙바 값 가져오기\u001b[39;00m\n\u001b[1;32m---> 13\u001b[0m     thres \u001b[38;5;241m=\u001b[39m \u001b[43mcv\u001b[49m\u001b[38;5;241;43m.\u001b[39;49m\u001b[43mgetTrackbarPos\u001b[49m\u001b[43m(\u001b[49m\u001b[38;5;124;43m\"\u001b[39;49m\u001b[38;5;124;43mThreshold\u001b[39;49m\u001b[38;5;124;43m\"\u001b[39;49m\u001b[43m,\u001b[49m\u001b[43m \u001b[49m\u001b[43mname\u001b[49m\u001b[43m)\u001b[49m\n\u001b[0;32m     15\u001b[0m     \u001b[38;5;66;03m# 이진화 처리\u001b[39;00m\n\u001b[0;32m     16\u001b[0m     ret, binary \u001b[38;5;241m=\u001b[39m cv\u001b[38;5;241m.\u001b[39mthreshold(img, thres, \u001b[38;5;241m255\u001b[39m, cv\u001b[38;5;241m.\u001b[39mTHRESH_BINARY)\n",
      "\u001b[1;31merror\u001b[0m: OpenCV(4.10.0) D:\\a\\opencv-python\\opencv-python\\opencv\\modules\\highgui\\src\\window_w32.cpp:2561: error: (-27:Null pointer) NULL window: 'Threshold' in function 'cvGetTrackbarPos'\n"
     ]
    }
   ],
   "source": [
    "import cv2 as cv\n",
    "\n",
    "# 이미지 읽기\n",
    "img = cv.imread(\"images/BB.jpg\", cv.IMREAD_GRAYSCALE)\n",
    "\n",
    "# 윈도우 생성 및 트랙바 추가\n",
    "name = \"Threshold\"\n",
    "cv.namedWindow(name)\n",
    "cv.createTrackbar(\"Threshold\", name, 127, 255, lambda x: None)\n",
    "\n",
    "while True:\n",
    "    # 트랙바 값 가져오기\n",
    "    thres = cv.getTrackbarPos(\"Threshold\", name)\n",
    "    \n",
    "    # 이진화 처리\n",
    "    ret, binary = cv.threshold(img, thres, 255, cv.THRESH_BINARY)\n",
    "    \n",
    "    # 결과 이미지 표시\n",
    "    cv.imshow(name, binary)\n",
    "    \n",
    "    # 키 입력 확인\n",
    "    key = cv.waitKey(1)\n",
    "    if key == ord(\"q\"):  # 'q' 키를 누르면 종료\n",
    "        break\n",
    "\n",
    "# 윈도우 닫기\n",
    "cv.destroyAllWindows()\n"
   ]
  },
  {
   "cell_type": "code",
   "execution_count": 11,
   "metadata": {},
   "outputs": [
    {
     "ename": "error",
     "evalue": "OpenCV(4.10.0) D:\\a\\opencv-python\\opencv-python\\opencv\\modules\\highgui\\src\\window_w32.cpp:2561: error: (-27:Null pointer) NULL window: 'Adaptive Threshold' in function 'cvGetTrackbarPos'\n",
     "output_type": "error",
     "traceback": [
      "\u001b[1;31m---------------------------------------------------------------------------\u001b[0m",
      "\u001b[1;31merror\u001b[0m                                     Traceback (most recent call last)",
      "Cell \u001b[1;32mIn[11], line 14\u001b[0m\n\u001b[0;32m     10\u001b[0m cv\u001b[38;5;241m.\u001b[39mcreateTrackbar(\u001b[38;5;124m\"\u001b[39m\u001b[38;5;124mC\u001b[39m\u001b[38;5;124m\"\u001b[39m, name, \u001b[38;5;241m2\u001b[39m, \u001b[38;5;241m20\u001b[39m, \u001b[38;5;28;01mlambda\u001b[39;00m x: \u001b[38;5;28;01mNone\u001b[39;00m)           \u001b[38;5;66;03m# 상수 C\u001b[39;00m\n\u001b[0;32m     12\u001b[0m \u001b[38;5;28;01mwhile\u001b[39;00m \u001b[38;5;28;01mTrue\u001b[39;00m:\n\u001b[0;32m     13\u001b[0m     \u001b[38;5;66;03m# 트랙바 값 가져오기\u001b[39;00m\n\u001b[1;32m---> 14\u001b[0m     block_size \u001b[38;5;241m=\u001b[39m \u001b[43mcv\u001b[49m\u001b[38;5;241;43m.\u001b[39;49m\u001b[43mgetTrackbarPos\u001b[49m\u001b[43m(\u001b[49m\u001b[38;5;124;43m\"\u001b[39;49m\u001b[38;5;124;43mBlock Size\u001b[39;49m\u001b[38;5;124;43m\"\u001b[39;49m\u001b[43m,\u001b[49m\u001b[43m \u001b[49m\u001b[43mname\u001b[49m\u001b[43m)\u001b[49m\n\u001b[0;32m     15\u001b[0m     c \u001b[38;5;241m=\u001b[39m cv\u001b[38;5;241m.\u001b[39mgetTrackbarPos(\u001b[38;5;124m\"\u001b[39m\u001b[38;5;124mC\u001b[39m\u001b[38;5;124m\"\u001b[39m, name)\n\u001b[0;32m     17\u001b[0m     \u001b[38;5;66;03m# 블록 크기는 반드시 홀수여야 하므로 최소값 3 이상, 홀수로 맞춤\u001b[39;00m\n",
      "\u001b[1;31merror\u001b[0m: OpenCV(4.10.0) D:\\a\\opencv-python\\opencv-python\\opencv\\modules\\highgui\\src\\window_w32.cpp:2561: error: (-27:Null pointer) NULL window: 'Adaptive Threshold' in function 'cvGetTrackbarPos'\n"
     ]
    }
   ],
   "source": [
    "import cv2 as cv\n",
    "\n",
    "# 이미지 읽기\n",
    "img = cv.imread(\"images/BB.jpg\", cv.IMREAD_GRAYSCALE)\n",
    "\n",
    "# 윈도우 생성 및 트랙바 추가\n",
    "name = \"Adaptive Threshold\"\n",
    "cv.namedWindow(name)\n",
    "cv.createTrackbar(\"Block Size\", name, 11, 50, lambda x: None)  # 블록 크기\n",
    "cv.createTrackbar(\"C\", name, 2, 20, lambda x: None)           # 상수 C\n",
    "\n",
    "while True:\n",
    "    # 트랙바 값 가져오기\n",
    "    block_size = cv.getTrackbarPos(\"Block Size\", name)\n",
    "    c = cv.getTrackbarPos(\"C\", name)\n",
    "    \n",
    "    # 블록 크기는 반드시 홀수여야 하므로 최소값 3 이상, 홀수로 맞춤\n",
    "    if block_size % 2 == 0:\n",
    "        block_size += 1\n",
    "    if block_size < 3:\n",
    "        block_size = 3\n",
    "\n",
    "    # 적응형 이진화 처리\n",
    "    binary = cv.adaptiveThreshold(\n",
    "        img, 255, cv.ADAPTIVE_THRESH_MEAN_C, cv.THRESH_BINARY, block_size, c\n",
    "    )\n",
    "    \n",
    "    # 결과 이미지 표시\n",
    "    cv.imshow(name, binary)\n",
    "    \n",
    "    # 키 입력 확인\n",
    "    key = cv.waitKey(1)\n",
    "    if key == ord(\"q\"):  # 'q' 키를 누르면 종료\n",
    "        break\n",
    "\n",
    "# 윈도우 닫기\n",
    "cv.destroyAllWindows()\n"
   ]
  }
 ],
 "metadata": {
  "kernelspec": {
   "display_name": "cv_my",
   "language": "python",
   "name": "python3"
  },
  "language_info": {
   "codemirror_mode": {
    "name": "ipython",
    "version": 3
   },
   "file_extension": ".py",
   "mimetype": "text/x-python",
   "name": "python",
   "nbconvert_exporter": "python",
   "pygments_lexer": "ipython3",
   "version": "3.13.1"
  }
 },
 "nbformat": 4,
 "nbformat_minor": 2
}
