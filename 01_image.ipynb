{
 "cells": [
  {
   "cell_type": "code",
   "execution_count": 9,
   "metadata": {},
   "outputs": [],
   "source": [
    "import cv2\n",
    "PATH_00 = \"images/BB.JPG\"\n",
    "PATH_01 = \"images/AA.PNG\""
   ]
  },
  {
   "cell_type": "markdown",
   "metadata": {},
   "source": [
    "## 01. 이미지 입출력"
   ]
  },
  {
   "cell_type": "markdown",
   "metadata": {},
   "source": [
    "### 1-1 이미지 불러오기"
   ]
  },
  {
   "cell_type": "code",
   "execution_count": 2,
   "metadata": {},
   "outputs": [
    {
     "name": "stdout",
     "output_type": "stream",
     "text": [
      "113\n"
     ]
    }
   ],
   "source": [
    "img = cv2.imread(\"images/HANDSOME.JPG\")\n",
    "# print(img)\n",
    "cv2.imshow(\"img\", img)\n",
    "key = cv2.waitKey(5000)\n",
    "print(key) ## 키입력 없으면 -1 반환\n",
    "cv2.destroyAllWindows()\n"
   ]
  },
  {
   "cell_type": "markdown",
   "metadata": {},
   "source": [
    "### 1-2 이미지 불러오기 옵션"
   ]
  },
  {
   "cell_type": "code",
   "execution_count": 3,
   "metadata": {},
   "outputs": [],
   "source": [
    "img_default = cv2.imread(PATH_00, cv2.IMREAD_COLOR) ##리얼 컬러 투명배경 무시\n",
    "img_gray = cv2.imread(PATH_00, cv2.IMREAD_GRAYSCALE) ##흑백\n",
    "img_unchanged = cv2.imread(PATH_00, cv2.IMREAD_UNCHANGED) ##리얼 컬러 투명배경 인식 알파값 반환\n",
    "\n",
    "cv2.imshow(\"IMG_DEFAULT\", img_default)\n",
    "cv2.imshow(\"IMG_GRAY\", img_gray)\n",
    "cv2.imshow(\"IMG_UNCHANGED\", img_unchanged)\n",
    "\n",
    "cv2.waitKey(0)\n",
    "cv2.destroyAllWindows()"
   ]
  },
  {
   "cell_type": "markdown",
   "metadata": {},
   "source": [
    "### 1-3 이미지 SHAPE"
   ]
  },
  {
   "cell_type": "code",
   "execution_count": 4,
   "metadata": {},
   "outputs": [
    {
     "data": {
      "text/plain": [
       "(371, 416, 3)"
      ]
     },
     "execution_count": 4,
     "metadata": {},
     "output_type": "execute_result"
    }
   ],
   "source": [
    "img_default = cv2.imread(PATH_01, cv2.IMREAD_COLOR) ##리얼 컬러 투명배경 무시\n",
    "img_gray = cv2.imread(PATH_01, cv2.IMREAD_GRAYSCALE) ##흑백\n",
    "img_unchanged = cv2.imread(PATH_01, cv2.IMREAD_UNCHANGED) ##리얼 컬러 투명배경 인식 알파값 반환\n",
    "\n",
    "# height, width = img_gray.shape\n",
    "\n",
    "# print(\"height\", height)\n",
    "# print(\"width\", width)\n",
    "# img_gray.shape\n",
    "# img_default.shape\n",
    "img_unchanged.shape \n",
    "# print(\"channel\", channel)"
   ]
  },
  {
   "cell_type": "markdown",
   "metadata": {},
   "source": [
    "### 번외"
   ]
  },
  {
   "cell_type": "code",
   "execution_count": 5,
   "metadata": {},
   "outputs": [],
   "source": [
    "img = cv2.imread(PATH_00)\n",
    "cv2.imshow(\"img\", img)\n",
    "key = cv2.waitKey(0)\n",
    "if key == ord(\"q\"):\n",
    "    cv2.destroyAllWindows()\n"
   ]
  },
  {
   "cell_type": "markdown",
   "metadata": {},
   "source": [
    "### 1-4 불러온 이미지 파일로 생성"
   ]
  },
  {
   "cell_type": "code",
   "execution_count": 12,
   "metadata": {},
   "outputs": [
    {
     "data": {
      "text/plain": [
       "True"
      ]
     },
     "execution_count": 12,
     "metadata": {},
     "output_type": "execute_result"
    }
   ],
   "source": [
    "img = cv2.imread(PATH_00, cv2.IMREAD_GRAYSCALE)\n",
    "\n",
    "cv2.imwrite(\"output/NEW_BB.jpg\", img)"
   ]
  },
  {
   "cell_type": "code",
   "execution_count": null,
   "metadata": {},
   "outputs": [],
   "source": []
  }
 ],
 "metadata": {
  "kernelspec": {
   "display_name": "cv_my",
   "language": "python",
   "name": "python3"
  },
  "language_info": {
   "codemirror_mode": {
    "name": "ipython",
    "version": 3
   },
   "file_extension": ".py",
   "mimetype": "text/x-python",
   "name": "python",
   "nbconvert_exporter": "python",
   "pygments_lexer": "ipython3",
   "version": "3.13.1"
  }
 },
 "nbformat": 4,
 "nbformat_minor": 2
}
