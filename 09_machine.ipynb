{
 "cells": [
  {
   "cell_type": "markdown",
   "metadata": {},
   "source": [
    "# 04. 자동 미분"
   ]
  },
  {
   "cell_type": "code",
   "execution_count": 49,
   "metadata": {},
   "outputs": [],
   "source": [
    "import torch"
   ]
  },
  {
   "cell_type": "code",
   "execution_count": 50,
   "metadata": {},
   "outputs": [
    {
     "name": "stdout",
     "output_type": "stream",
     "text": [
      "tensor([1., 1., 1.], requires_grad=True)\n",
      "True\n"
     ]
    }
   ],
   "source": [
    "x = torch.ones(3, requires_grad=True)\n",
    "print(x)\n",
    "# print(x.grad)\n",
    "# print(x.grad_fn)\n",
    "print(x.requires_grad)\n"
   ]
  },
  {
   "cell_type": "code",
   "execution_count": 51,
   "metadata": {},
   "outputs": [
    {
     "name": "stdout",
     "output_type": "stream",
     "text": [
      "tensor([2., 2., 2.], grad_fn=<MulBackward0>)\n",
      "None\n",
      "<MulBackward0 object at 0x000001B9AEF6BEB0>\n",
      "True\n"
     ]
    },
    {
     "name": "stderr",
     "output_type": "stream",
     "text": [
      "C:\\Users\\MSI\\AppData\\Local\\Temp\\ipykernel_6084\\268873173.py:3: UserWarning: The .grad attribute of a Tensor that is not a leaf Tensor is being accessed. Its .grad attribute won't be populated during autograd.backward(). If you indeed want the .grad field to be populated for a non-leaf Tensor, use .retain_grad() on the non-leaf Tensor. If you access the non-leaf Tensor by mistake, make sure you access the leaf Tensor instead. See github.com/pytorch/pytorch/pull/30531 for more informations. (Triggered internally at C:\\cb\\pytorch_1000000000000\\work\\build\\aten\\src\\ATen/core/TensorBody.h:494.)\n",
      "  print(y.grad)\n"
     ]
    }
   ],
   "source": [
    "y = 2 * x\n",
    "print(y)\n",
    "print(y.grad)\n",
    "print(y.grad_fn)\n",
    "print(y.requires_grad)"
   ]
  },
  {
   "cell_type": "code",
   "execution_count": 52,
   "metadata": {},
   "outputs": [
    {
     "name": "stdout",
     "output_type": "stream",
     "text": [
      "tensor([4., 4., 4.], grad_fn=<PowBackward0>)\n",
      "None\n",
      "<PowBackward0 object at 0x000001B9AEF6BFA0>\n",
      "True\n"
     ]
    },
    {
     "name": "stderr",
     "output_type": "stream",
     "text": [
      "C:\\Users\\MSI\\AppData\\Local\\Temp\\ipykernel_6084\\736045219.py:3: UserWarning: The .grad attribute of a Tensor that is not a leaf Tensor is being accessed. Its .grad attribute won't be populated during autograd.backward(). If you indeed want the .grad field to be populated for a non-leaf Tensor, use .retain_grad() on the non-leaf Tensor. If you access the non-leaf Tensor by mistake, make sure you access the leaf Tensor instead. See github.com/pytorch/pytorch/pull/30531 for more informations. (Triggered internally at C:\\cb\\pytorch_1000000000000\\work\\build\\aten\\src\\ATen/core/TensorBody.h:494.)\n",
      "  print(z.grad)\n"
     ]
    }
   ],
   "source": [
    "z = y ** 2\n",
    "print(z)\n",
    "print(z.grad)\n",
    "print(z.grad_fn)\n",
    "print(z.requires_grad)"
   ]
  },
  {
   "cell_type": "markdown",
   "metadata": {},
   "source": [
    "## 4-2 backword\n",
    "- x -> y -> z 계산을 역전파를 통해 기울기를 구함"
   ]
  },
  {
   "cell_type": "code",
   "execution_count": 53,
   "metadata": {},
   "outputs": [],
   "source": [
    "result = z.sum()\n",
    "result = result.backward()\n"
   ]
  },
  {
   "cell_type": "code",
   "execution_count": 54,
   "metadata": {},
   "outputs": [
    {
     "name": "stdout",
     "output_type": "stream",
     "text": [
      "tensor([4., 4., 4.], grad_fn=<PowBackward0>)\n",
      "tensor([8., 8., 8.])\n"
     ]
    }
   ],
   "source": [
    "print(z)\n",
    "print(x.grad)"
   ]
  },
  {
   "cell_type": "markdown",
   "metadata": {},
   "source": [
    "### 4-3 no_grad()\n",
    "- 역전파를 중지"
   ]
  },
  {
   "cell_type": "code",
   "execution_count": 61,
   "metadata": {},
   "outputs": [
    {
     "name": "stdout",
     "output_type": "stream",
     "text": [
      "True\n",
      "True\n",
      "True\n",
      "False\n"
     ]
    }
   ],
   "source": [
    "x = torch.tensor(1.0, requires_grad=True)\n",
    "print(x.requires_grad)\n",
    "print((x ** 2).requires_grad)\n",
    "\n",
    "with torch.no_grad():\n",
    "    print(x.requires_grad)\n",
    "    print((x ** 2).requires_grad)\n"
   ]
  },
  {
   "cell_type": "markdown",
   "metadata": {},
   "source": [
    "## 4-4 detach()"
   ]
  },
  {
   "cell_type": "code",
   "execution_count": 64,
   "metadata": {},
   "outputs": [
    {
     "data": {
      "text/plain": [
       "tensor(1.)"
      ]
     },
     "execution_count": 64,
     "metadata": {},
     "output_type": "execute_result"
    }
   ],
   "source": [
    "y.detach()"
   ]
  },
  {
   "cell_type": "code",
   "execution_count": null,
   "metadata": {},
   "outputs": [],
   "source": [
    "import torch\n",
    "\n",
    "def loss_fn(output, target):\n",
    "    return ((output - target) ** 2).mean() \n",
    "\n",
    "learning_rate = 0.01\n",
    "\n",
    "class SimpleModel(torch.nn.Module):\n",
    "    def __init__(self):\n",
    "        super(SimpleModel, self).__init__()\n",
    "        self.W = torch.randn(10, 1, requires_grad=True)  \n",
    "        self.b = torch.zeros(1, requires_grad=True) \n",
    "\n",
    "    def forward(self, x):\n",
    "        return torch.matmul(x, self.W) + self.b\n",
    "\n",
    "model = SimpleModel()\n",
    "x = torch.randn(32, 10)  \n",
    "target = torch.randn(32, 1) \n",
    "\n",
    "for epoch in range(100):\n",
    "    output = model(x)  \n",
    "    loss = loss_fn(output, target)  \n",
    "    \n",
    "    loss.backward()  \n",
    "    with torch.no_grad():  \n",
    "        model.W -= learning_rate * model.W.grad  \n",
    "        model.b -= learning_rate * model.b.grad  \n",
    "        model.W.grad.zero_()  \n",
    "        model.b.grad.zero_()  \n",
    "\n",
    "    print(f'Epoch {epoch+1}, Loss: {loss.item()}')\n"
   ]
  },
  {
   "cell_type": "code",
   "execution_count": 66,
   "metadata": {},
   "outputs": [
    {
     "name": "stdout",
     "output_type": "stream",
     "text": [
      "tensor([[-0.4164],\n",
      "        [-0.4358],\n",
      "        [-0.4384],\n",
      "        [-0.6584],\n",
      "        [-0.2120],\n",
      "        [-0.4825],\n",
      "        [-0.2710],\n",
      "        [-0.3579],\n",
      "        [-0.2568],\n",
      "        [-0.2820],\n",
      "        [-0.2480],\n",
      "        [-0.6343],\n",
      "        [-0.4240],\n",
      "        [-0.3426],\n",
      "        [-0.3287],\n",
      "        [-0.7351],\n",
      "        [-0.3838],\n",
      "        [-0.2979],\n",
      "        [-0.2974],\n",
      "        [-0.4048],\n",
      "        [-0.2858],\n",
      "        [-0.3965],\n",
      "        [-0.2794],\n",
      "        [-0.4703],\n",
      "        [-0.3622],\n",
      "        [-0.3062],\n",
      "        [-0.3907],\n",
      "        [-0.3946],\n",
      "        [-0.2858],\n",
      "        [-0.3010],\n",
      "        [-0.4191],\n",
      "        [-0.3150]])\n"
     ]
    }
   ],
   "source": [
    "import torch\n",
    "import torch.nn as nn\n",
    "\n",
    "# 간단한 모델 정의\n",
    "class SimpleModel(nn.Module):\n",
    "    def __init__(self):\n",
    "        super(SimpleModel, self).__init__()\n",
    "        self.fc1 = nn.Linear(10, 5)  # 입력 10, 출력 5\n",
    "        self.fc2 = nn.Linear(5, 1)   # 입력 5, 출력 1\n",
    "\n",
    "    def forward(self, x):\n",
    "        x = torch.relu(self.fc1(x))\n",
    "        x = self.fc2(x)\n",
    "        return x\n",
    "\n",
    "# 모델 초기화\n",
    "model = SimpleModel()\n",
    "\n",
    "# 입력 데이터 (배치 32, 특성 10개)\n",
    "inputs = torch.randn(32, 10)\n",
    "\n",
    "# 1. 예측을 위한 no_grad() 사용 (기울기 계산을 하지 않음)\n",
    "with torch.no_grad():  # 기울기 계산을 하지 않음\n",
    "    outputs = model(inputs)  # 예측\n",
    "\n",
    "# 예측 결과 출력\n",
    "print(outputs)\n"
   ]
  },
  {
   "cell_type": "code",
   "execution_count": 67,
   "metadata": {},
   "outputs": [
    {
     "name": "stdout",
     "output_type": "stream",
     "text": [
      "tensor([[-1.5965e+00],\n",
      "        [ 3.6589e+00],\n",
      "        [-1.9263e+00],\n",
      "        [ 3.3768e+00],\n",
      "        [ 6.2995e-01],\n",
      "        [ 3.7527e+00],\n",
      "        [-2.1063e+00],\n",
      "        [-3.8126e+00],\n",
      "        [-2.9163e+00],\n",
      "        [ 1.3151e+00],\n",
      "        [-2.6382e+00],\n",
      "        [-3.5802e+00],\n",
      "        [ 4.8295e+00],\n",
      "        [-8.5034e-03],\n",
      "        [-2.3992e+00],\n",
      "        [ 2.1798e+00],\n",
      "        [ 9.2690e-01],\n",
      "        [ 1.7717e+00],\n",
      "        [ 1.0630e+00],\n",
      "        [-2.6990e-01],\n",
      "        [-1.1216e+00],\n",
      "        [ 2.4331e-02],\n",
      "        [-3.2089e-01],\n",
      "        [-1.7562e+00],\n",
      "        [-1.8912e+00],\n",
      "        [-9.4712e+00],\n",
      "        [-3.1873e+00],\n",
      "        [ 8.1710e-01],\n",
      "        [ 1.1252e+00],\n",
      "        [-5.0490e+00],\n",
      "        [ 1.1437e+00],\n",
      "        [-1.1852e+00]])\n"
     ]
    }
   ],
   "source": [
    "import torch\n",
    "\n",
    "class SimpleModel:\n",
    "    def __init__(self, input_size, hidden_size, output_size):\n",
    "        # 가중치와 편향을 수동으로 초기화\n",
    "        self.W1 = torch.randn(input_size, hidden_size, requires_grad=True)  # 입력에서 은닉층으로 가는 가중치\n",
    "        self.b1 = torch.zeros(hidden_size, requires_grad=True)  # 은닉층 편향\n",
    "        self.W2 = torch.randn(hidden_size, output_size, requires_grad=True)  # 은닉층에서 출력층으로 가는 가중치\n",
    "        self.b2 = torch.zeros(output_size, requires_grad=True)  # 출력층 편향\n",
    "\n",
    "    def forward(self, x):\n",
    "        # 신경망의 순전파(Forward Propagation)\n",
    "        hidden = torch.relu(torch.matmul(x, self.W1) + self.b1)  # 은닉층 계산 (ReLU 활성화)\n",
    "        output = torch.matmul(hidden, self.W2) + self.b2  # 출력층 계산\n",
    "        return output\n",
    "\n",
    "model = SimpleModel(10, 5, 1)\n",
    "inputs = torch.randn(32, 10)\n",
    "\n",
    "# 예측\n",
    "with torch.no_grad():  # 기울기 계산을 하지 않음\n",
    "    outputs = model.forward(inputs)  # 예측 수행\n",
    "\n",
    "# 예측 결과 출력\n",
    "print(outputs)\n"
   ]
  },
  {
   "cell_type": "code",
   "execution_count": 74,
   "metadata": {},
   "outputs": [
    {
     "name": "stdout",
     "output_type": "stream",
     "text": [
      "tensor([[-0.8909],\n",
      "        [-5.3776],\n",
      "        [ 4.5066],\n",
      "        [-4.9517],\n",
      "        [ 6.7068],\n",
      "        [-3.0377],\n",
      "        [ 5.2263],\n",
      "        [ 6.5428],\n",
      "        [16.5172],\n",
      "        [-1.0309],\n",
      "        [-6.3813],\n",
      "        [ 9.4671],\n",
      "        [-0.3162],\n",
      "        [ 7.2339],\n",
      "        [10.0748],\n",
      "        [-0.6671],\n",
      "        [ 0.4907],\n",
      "        [-0.5938],\n",
      "        [-7.5720],\n",
      "        [12.3305],\n",
      "        [ 6.4296],\n",
      "        [ 0.4095],\n",
      "        [-0.4527],\n",
      "        [ 2.5514],\n",
      "        [-4.2244],\n",
      "        [ 6.7332],\n",
      "        [ 7.8431],\n",
      "        [ 4.0422],\n",
      "        [ 4.8327],\n",
      "        [ 2.2946],\n",
      "        [ 7.0612],\n",
      "        [-0.6889]])\n",
      "Loss: 37.815528869628906\n"
     ]
    }
   ],
   "source": [
    "import torch\n",
    "\n",
    "class SimpleModel:\n",
    "    def __init__(self, input_size, hidden_size, output_size):\n",
    "        # 가중치와 편향을 수동으로 초기화\n",
    "        self.W1 = torch.randn(input_size, hidden_size, requires_grad=True)  # 입력에서 은닉층으로 가는 가중치\n",
    "        self.b1 = torch.zeros(hidden_size, requires_grad=True)  # 은닉층 편향\n",
    "        self.W2 = torch.randn(hidden_size, output_size, requires_grad=True)  # 은닉층에서 출력층으로 가는 가중치\n",
    "        self.b2 = torch.zeros(output_size, requires_grad=True)  # 출력층 편향\n",
    "\n",
    "    def forward(self, x):\n",
    "        # 신경망의 순전파(Forward Propagation)\n",
    "        hidden = torch.relu(torch.matmul(x, self.W1) + self.b1)  # 은닉층 계산 (ReLU 활성화)\n",
    "        output = torch.matmul(hidden, self.W2) + self.b2  # 출력층 계산\n",
    "        return output\n",
    "\n",
    "# 모델 초기화\n",
    "model = SimpleModel(10, 5, 1)\n",
    "\n",
    "# 입력 데이터 (배치 크기: 32, 특성: 10개)\n",
    "inputs = torch.randn(32, 10)\n",
    "targets = torch.randn(32, 1)  # 목표값\n",
    "\n",
    "# 손실 함수 정의: 평균 제곱 오차 (MSE)\n",
    "def mean_squared_error(output, target):\n",
    "    return ((output - target) ** 2).mean()\n",
    "\n",
    "# 예측\n",
    "with torch.no_grad():  # 기울기 계산을 하지 않음\n",
    "    outputs = model.forward(inputs)  # 예측 수행\n",
    "\n",
    "# 손실 계산\n",
    "loss = mean_squared_error(outputs, targets)\n",
    "\n",
    "\n",
    "print(outputs)\n",
    "print(f\"Loss: {loss.item()}\")\n"
   ]
  },
  {
   "cell_type": "markdown",
   "metadata": {},
   "source": [
    "## 선형회귀 연습\n",
    "- 입출력 정의\n",
    "- 모델 정의\n",
    "- 손실함수 정의 : MSE. MAE ....\n",
    "- 가중치 업데이트 : 경사하강법 -> 어떤거 사용할지 선택\n",
    "- 학습 반복\n",
    "- 결과 시각화"
   ]
  },
  {
   "cell_type": "code",
   "execution_count": 83,
   "metadata": {},
   "outputs": [
    {
     "name": "stdout",
     "output_type": "stream",
     "text": [
      "Collecting matplotlib\n",
      "  Downloading matplotlib-3.10.0-cp312-cp312-win_amd64.whl.metadata (11 kB)\n",
      "Collecting contourpy>=1.0.1 (from matplotlib)\n",
      "  Downloading contourpy-1.3.1-cp312-cp312-win_amd64.whl.metadata (5.4 kB)\n",
      "Collecting cycler>=0.10 (from matplotlib)\n",
      "  Using cached cycler-0.12.1-py3-none-any.whl.metadata (3.8 kB)\n",
      "Collecting fonttools>=4.22.0 (from matplotlib)\n",
      "  Downloading fonttools-4.55.3-cp312-cp312-win_amd64.whl.metadata (168 kB)\n",
      "Collecting kiwisolver>=1.3.1 (from matplotlib)\n",
      "  Downloading kiwisolver-1.4.8-cp312-cp312-win_amd64.whl.metadata (6.3 kB)\n",
      "Requirement already satisfied: numpy>=1.23 in c:\\users\\msi\\anaconda3\\envs\\pytorch_env\\lib\\site-packages (from matplotlib) (2.0.1)\n",
      "Requirement already satisfied: packaging>=20.0 in c:\\users\\msi\\anaconda3\\envs\\pytorch_env\\lib\\site-packages (from matplotlib) (24.2)\n",
      "Requirement already satisfied: pillow>=8 in c:\\users\\msi\\anaconda3\\envs\\pytorch_env\\lib\\site-packages (from matplotlib) (11.0.0)\n",
      "Collecting pyparsing>=2.3.1 (from matplotlib)\n",
      "  Using cached pyparsing-3.2.1-py3-none-any.whl.metadata (5.0 kB)\n",
      "Requirement already satisfied: python-dateutil>=2.7 in c:\\users\\msi\\anaconda3\\envs\\pytorch_env\\lib\\site-packages (from matplotlib) (2.9.0.post0)\n",
      "Requirement already satisfied: six>=1.5 in c:\\users\\msi\\anaconda3\\envs\\pytorch_env\\lib\\site-packages (from python-dateutil>=2.7->matplotlib) (1.17.0)\n",
      "Downloading matplotlib-3.10.0-cp312-cp312-win_amd64.whl (8.0 MB)\n",
      "   ---------------------------------------- 0.0/8.0 MB ? eta -:--:--\n",
      "   ---------------------------------------- 8.0/8.0 MB 38.3 MB/s eta 0:00:00\n",
      "Downloading contourpy-1.3.1-cp312-cp312-win_amd64.whl (220 kB)\n",
      "Using cached cycler-0.12.1-py3-none-any.whl (8.3 kB)\n",
      "Downloading fonttools-4.55.3-cp312-cp312-win_amd64.whl (2.2 MB)\n",
      "   ---------------------------------------- 0.0/2.2 MB ? eta -:--:--\n",
      "   ---------------------------------------- 2.2/2.2 MB 60.8 MB/s eta 0:00:00\n",
      "Downloading kiwisolver-1.4.8-cp312-cp312-win_amd64.whl (71 kB)\n",
      "Using cached pyparsing-3.2.1-py3-none-any.whl (107 kB)\n",
      "Installing collected packages: pyparsing, kiwisolver, fonttools, cycler, contourpy, matplotlib\n",
      "Successfully installed contourpy-1.3.1 cycler-0.12.1 fonttools-4.55.3 kiwisolver-1.4.8 matplotlib-3.10.0 pyparsing-3.2.1\n",
      "Note: you may need to restart the kernel to use updated packages.\n"
     ]
    }
   ],
   "source": [
    "%pip install matplotlib"
   ]
  },
  {
   "cell_type": "code",
   "execution_count": 99,
   "metadata": {},
   "outputs": [
    {
     "name": "stdout",
     "output_type": "stream",
     "text": [
      "Epoch [50/400], Loss:  8.4722\n",
      "Epoch [100/400], Loss:  8.3060\n",
      "Epoch [150/400], Loss:  8.2050\n",
      "Epoch [200/400], Loss:  8.1436\n",
      "Epoch [250/400], Loss:  8.1062\n",
      "Epoch [300/400], Loss:  8.0835\n",
      "Epoch [350/400], Loss:  8.0697\n",
      "Epoch [400/400], Loss:  8.0613\n"
     ]
    },
    {
     "data": {
      "image/png": "[encoded data removed]",
      "text/plain": [
       "<Figure size 1000x500 with 2 Axes>"
      ]
     },
     "metadata": {},
     "output_type": "display_data"
    },
    {
     "name": "stdout",
     "output_type": "stream",
     "text": [
      "모델 파라미터\n",
      "linear.weight: tensor([[3.0770]])\n",
      "linear.bias: tensor([1.1215])\n"
     ]
    }
   ],
   "source": [
    "import torch\n",
    "import torch.nn as nn\n",
    "import torch.optim as optim\n",
    "import matplotlib.pyplot as plt\n",
    "from matplotlib import rc \n",
    "\n",
    "rc('font', family='Malgun Gothic') \n",
    "\n",
    "x = torch.linspace(0, 10, 100).view(-1, 1)\n",
    "y = 3 * x + 2 + torch.randn(100, 1) * 3\n",
    "\n",
    "class LinearRegressionModel(nn.Module):\n",
    "    def __init__(self):\n",
    "        super(LinearRegressionModel, self).__init__()\n",
    "        self.linear = nn.Linear(1, 1)\n",
    "    \n",
    "    def forward(self, x):\n",
    "        return self.linear(x)\n",
    "    \n",
    "model = LinearRegressionModel()\n",
    "\n",
    "loss_function = nn.MSELoss()\n",
    "optimizer = optim.SGD(model.parameters(), lr=0.01)\n",
    "\n",
    "epochs = 400\n",
    "losses = []\n",
    "for epoch in range(epochs):\n",
    "    optimizer.zero_grad() # 기울기 초기화\n",
    "    outputs = model(x) # 순전파\n",
    "    loss = loss_function(outputs, y) # 손실계산\n",
    "    loss.backward() # 역전파\n",
    "    optimizer.step() # 가중치 업데이트\n",
    "\n",
    "    losses.append(loss.item())\n",
    "\n",
    "    if (epoch+1) % 50 == 0:\n",
    "        print(f'Epoch [{epoch+1}/{epochs}], Loss: {loss.item(): .4f}')\n",
    "\n",
    "plt.figure(figsize=(10,5))\n",
    "plt.subplot(1, 2, 1)\n",
    "plt.plot(losses)\n",
    "plt.title(\"손실 감소 그래프\")\n",
    "plt.ylim(0, 20)\n",
    "plt.xlabel('Epoch')\n",
    "plt.ylabel('Loss')\n",
    "\n",
    "plt.subplot(1, 2, 2)\n",
    "plt.scatter(x.numpy(), y.numpy(), label=\"실제 데이터\")\n",
    "plt.plot(x.numpy(), model(x).detach().numpy(), color=\"red\", label=\"예측\")\n",
    "plt.title('선형 회귀: 실제 데이터 vs 예측')\n",
    "plt.xlabel('x')\n",
    "plt.ylabel('y')\n",
    "plt.legend()\n",
    "plt.show()\n",
    "\n",
    "print(\"모델 파라미터\")\n",
    "for name, param in model.named_parameters():\n",
    "    print(f\"{name}: {param.data}\")\n",
    "\n"
   ]
  },
  {
   "cell_type": "code",
   "execution_count": 80,
   "metadata": {},
   "outputs": [
    {
     "ename": "ModuleNotFoundError",
     "evalue": "No module named 'matplotlib'",
     "output_type": "error",
     "traceback": [
      "\u001b[1;31m---------------------------------------------------------------------------\u001b[0m",
      "\u001b[1;31mModuleNotFoundError\u001b[0m                       Traceback (most recent call last)",
      "Cell \u001b[1;32mIn[80], line 2\u001b[0m\n\u001b[0;32m      1\u001b[0m \u001b[38;5;28;01mimport\u001b[39;00m\u001b[38;5;250m \u001b[39m\u001b[38;5;21;01mtorch\u001b[39;00m\n\u001b[1;32m----> 2\u001b[0m \u001b[38;5;28;01mimport\u001b[39;00m\u001b[38;5;250m \u001b[39m\u001b[38;5;21;01mmatplotlib\u001b[39;00m\u001b[38;5;21;01m.\u001b[39;00m\u001b[38;5;21;01mpyplot\u001b[39;00m\u001b[38;5;250m \u001b[39m\u001b[38;5;28;01mas\u001b[39;00m\u001b[38;5;250m \u001b[39m\u001b[38;5;21;01mplt\u001b[39;00m\n\u001b[0;32m      4\u001b[0m \u001b[38;5;66;03m# 1. 데이터 생성\u001b[39;00m\n\u001b[0;32m      5\u001b[0m x \u001b[38;5;241m=\u001b[39m torch\u001b[38;5;241m.\u001b[39mlinspace(\u001b[38;5;241m0\u001b[39m, \u001b[38;5;241m10\u001b[39m, \u001b[38;5;241m100\u001b[39m)\u001b[38;5;241m.\u001b[39mview(\u001b[38;5;241m-\u001b[39m\u001b[38;5;241m1\u001b[39m, \u001b[38;5;241m1\u001b[39m)  \u001b[38;5;66;03m# 0부터 10까지 100개의 점\u001b[39;00m\n",
      "\u001b[1;31mModuleNotFoundError\u001b[0m: No module named 'matplotlib'"
     ]
    }
   ],
   "source": [
    "import torch\n",
    "import matplotlib.pyplot as plt\n",
    "\n",
    "# 1. 데이터 생성\n",
    "x = torch.linspace(0, 10, 100).view(-1, 1)  # 0부터 10까지 100개의 점\n",
    "y = 3 * x + 2 + torch.randn(100, 1) * 3     # y = 3x + 2 + noise (잡음 추가)\n",
    "\n",
    "# 데이터 시각화\n",
    "plt.scatter(x.numpy(), y.numpy(), color='blue', label='Data')\n",
    "plt.xlabel('x')\n",
    "plt.ylabel('y')\n",
    "plt.title('Generated Data')\n",
    "plt.legend()\n",
    "plt.show()\n",
    "\n",
    "# 2. 모델 정의\n",
    "class LinearRegressionModel:\n",
    "    def __init__(self):\n",
    "        self.w = torch.randn(1, requires_grad=True)  # 가중치\n",
    "        self.b = torch.zeros(1, requires_grad=True)  # 편향\n",
    "\n",
    "    def forward(self, x):\n",
    "        return self.w * x + self.b  # y = wx + b\n",
    "\n",
    "# 3. 손실 함수 정의 (MSE)\n",
    "def mean_squared_error(predictions, targets):\n",
    "    return ((predictions - targets) ** 2).mean()\n",
    "\n",
    "# 4. 경사 하강법으로 가중치 업데이트\n",
    "def gradient_descent_step(model, inputs, targets, learning_rate):\n",
    "    predictions = model.forward(inputs)  # 예측값 계산\n",
    "    loss = mean_squared_error(predictions, targets)  # 손실 계산\n",
    "    loss.backward()  # 기울기 계산\n",
    "\n",
    "    with torch.no_grad():\n",
    "        model.w -= learning_rate * model.w.grad  # 가중치 업데이트\n",
    "        model.b -= learning_rate * model.b.grad  # 편향 업데이트\n",
    "\n",
    "    model.w.grad.zero_()  # 기울기 초기화\n",
    "    model.b.grad.zero_()  # 기울기 초기화\n",
    "\n",
    "    return loss\n",
    "\n",
    "# 5. 모델 학습\n",
    "model = LinearRegressionModel()\n",
    "learning_rate = 0.01\n",
    "epochs = 1000\n",
    "\n",
    "# 학습 반복\n",
    "for epoch in range(epochs):\n",
    "    loss = gradient_descent_step(model, x, y, learning_rate)\n",
    "    if epoch % 100 == 0:\n",
    "        print(f\"Epoch {epoch}, Loss: {loss.item()}\")\n",
    "\n",
    "# 최종 학습된 가중치 및 편향\n",
    "print(f\"Final model parameters: w = {model.w.item()}, b = {model.b.item()}\")\n",
    "\n",
    "# 6. 결과 시각화\n",
    "with torch.no_grad():\n",
    "    predictions = model.forward(x)\n",
    "\n",
    "# 시각화\n",
    "plt.scatter(x.numpy(), y.numpy(), color='blue', label='True data')  # 실제 데이터\n",
    "plt.plot(x.numpy(), predictions.numpy(), color='red', label='Model prediction')  # 모델 예측\n",
    "plt.xlabel('x')\n",
    "plt.ylabel('y')\n",
    "plt.title('Linear Regression - Model vs True Data')\n",
    "plt.legend()\n",
    "plt.show()\n"
   ]
  }
 ],
 "metadata": {
  "kernelspec": {
   "display_name": "pytorch_env",
   "language": "python",
   "name": "python3"
  },
  "language_info": {
   "codemirror_mode": {
    "name": "ipython",
    "version": 3
   },
   "file_extension": ".py",
   "mimetype": "text/x-python",
   "name": "python",
   "nbconvert_exporter": "python",
   "pygments_lexer": "ipython3",
   "version": "3.12.8"
  }
 },
 "nbformat": 4,
 "nbformat_minor": 2
}
