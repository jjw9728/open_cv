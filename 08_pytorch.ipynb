{
 "cells": [
  {
   "cell_type": "markdown",
   "metadata": {},
   "source": [
    "# pytorch 인덱싱과 슬라이싱"
   ]
  },
  {
   "cell_type": "code",
   "execution_count": 1,
   "metadata": {},
   "outputs": [],
   "source": [
    "import torch"
   ]
  },
  {
   "cell_type": "code",
   "execution_count": 5,
   "metadata": {},
   "outputs": [
    {
     "name": "stdout",
     "output_type": "stream",
     "text": [
      "tensor([1, 2, 3])\n",
      "tensor([2, 5, 8])\n",
      "tensor(2)\n",
      "tensor([[2, 3],\n",
      "        [5, 6]])\n",
      "tensor([6, 7, 8, 9])\n",
      "tensor([2, 4, 6, 8])\n",
      "tensor([2, 6])\n"
     ]
    }
   ],
   "source": [
    "t = torch.tensor([[1, 2, 3],\n",
    "                  [4, 5, 6],\n",
    "                  [7, 8, 9]])\n",
    "\n",
    "print(t[0, :]) # 1행의 모든 열\n",
    "print(t[:, 1]) # 모든행의 2번째 열\n",
    "print(t[0, 1]) # 첫번째행의 2번째 열\n",
    "print(t[0:2, 1:3]) # 첫번째와 두번째 행의 두번째와 세번째 열\n",
    "c = t[t > 5]\n",
    "d = t[t % 2 == 0]\n",
    "print(c)\n",
    "print(d)\n",
    "print(t[[0,1],[1,2]])\n"
   ]
  },
  {
   "cell_type": "code",
   "execution_count": 10,
   "metadata": {},
   "outputs": [
    {
     "name": "stdout",
     "output_type": "stream",
     "text": [
      "tensor([[0.2887, 0.0651, 0.5212, 0.2674, 0.9334],\n",
      "        [0.5343, 0.8621, 0.7383, 0.7404, 0.3658],\n",
      "        [0.2780, 0.1914, 0.5424, 0.0627, 0.0225],\n",
      "        [0.5785, 0.9198, 0.3064, 0.0438, 0.9780]])\n",
      "tensor([[0.2887, 0.0651],\n",
      "        [0.5212, 0.2674],\n",
      "        [0.9334, 0.5343],\n",
      "        [0.8621, 0.7383],\n",
      "        [0.7404, 0.3658],\n",
      "        [0.2780, 0.1914],\n",
      "        [0.5424, 0.0627],\n",
      "        [0.0225, 0.5785],\n",
      "        [0.9198, 0.3064],\n",
      "        [0.0438, 0.9780]])\n"
     ]
    }
   ],
   "source": [
    "t = torch.rand(4,5)\n",
    "x = t.view(5,4)\n",
    "print(t)\n",
    "z = t.view(10,-1)\n",
    "print(z)"
   ]
  },
  {
   "cell_type": "code",
   "execution_count": 15,
   "metadata": {},
   "outputs": [
    {
     "name": "stdout",
     "output_type": "stream",
     "text": [
      "tensor([0.5998])\n",
      "0.5997721552848816\n",
      "tensor(10)\n",
      "10\n"
     ]
    }
   ],
   "source": [
    "x = torch.rand(1)\n",
    "print(x)\n",
    "print(x.item())\n",
    "\n",
    "y = torch.tensor(10)\n",
    "print(y)\n",
    "print(y.item())"
   ]
  },
  {
   "cell_type": "code",
   "execution_count": 17,
   "metadata": {},
   "outputs": [
    {
     "name": "stdout",
     "output_type": "stream",
     "text": [
      "tensor([[[0.6544, 0.2206, 0.4257],\n",
      "         [0.7566, 0.8783, 0.1335],\n",
      "         [0.1229, 0.5240, 0.0131]]])\n",
      "torch.Size([1, 3, 3])\n",
      "tensor([[0.6544, 0.2206, 0.4257],\n",
      "        [0.7566, 0.8783, 0.1335],\n",
      "        [0.1229, 0.5240, 0.0131]])\n",
      "torch.Size([3, 3])\n"
     ]
    }
   ],
   "source": [
    "x = torch.rand(1, 3, 3)\n",
    "print(x)\n",
    "print(x.shape)\n",
    "\n",
    "y = torch.squeeze(x) # 크기 1인 차원이 축소 됨\n",
    "print(y)\n",
    "print(y.shape)"
   ]
  },
  {
   "cell_type": "code",
   "execution_count": 27,
   "metadata": {},
   "outputs": [
    {
     "name": "stdout",
     "output_type": "stream",
     "text": [
      "tensor([[[0.3441, 0.9591, 0.7979],\n",
      "         [0.8366, 0.5264, 0.3164],\n",
      "         [0.9943, 0.5793, 0.9502]],\n",
      "\n",
      "        [[0.8292, 0.8088, 0.1324],\n",
      "         [0.1635, 0.1066, 0.9487],\n",
      "         [0.6958, 0.4275, 0.0737]],\n",
      "\n",
      "        [[0.9817, 0.1961, 0.1573],\n",
      "         [0.4236, 0.2081, 0.7952],\n",
      "         [0.4132, 0.7129, 0.8527]]])\n",
      "torch.Size([3, 3, 3])\n",
      "tensor([[[[0.3441],\n",
      "          [0.9591],\n",
      "          [0.7979]],\n",
      "\n",
      "         [[0.8366],\n",
      "          [0.5264],\n",
      "          [0.3164]],\n",
      "\n",
      "         [[0.9943],\n",
      "          [0.5793],\n",
      "          [0.9502]]],\n",
      "\n",
      "\n",
      "        [[[0.8292],\n",
      "          [0.8088],\n",
      "          [0.1324]],\n",
      "\n",
      "         [[0.1635],\n",
      "          [0.1066],\n",
      "          [0.9487]],\n",
      "\n",
      "         [[0.6958],\n",
      "          [0.4275],\n",
      "          [0.0737]]],\n",
      "\n",
      "\n",
      "        [[[0.9817],\n",
      "          [0.1961],\n",
      "          [0.1573]],\n",
      "\n",
      "         [[0.4236],\n",
      "          [0.2081],\n",
      "          [0.7952]],\n",
      "\n",
      "         [[0.4132],\n",
      "          [0.7129],\n",
      "          [0.8527]]]])\n",
      "torch.Size([3, 3, 3, 1])\n"
     ]
    }
   ],
   "source": [
    "x = torch.rand(3, 3, 3)\n",
    "print(x)\n",
    "print(x.shape)\n",
    "\n",
    "y = torch.unsqueeze(x, dim=3) # dim 위치에 크기 1인 차원이 추가됨\n",
    "print(y)\n",
    "print(y.shape)"
   ]
  },
  {
   "cell_type": "code",
   "execution_count": 30,
   "metadata": {},
   "outputs": [
    {
     "name": "stdout",
     "output_type": "stream",
     "text": [
      "tensor([[[1, 2],\n",
      "         [3, 4]],\n",
      "\n",
      "        [[5, 6],\n",
      "         [7, 8]]])\n",
      "3\n",
      "torch.Size([2, 2, 2])\n"
     ]
    }
   ],
   "source": [
    "a = torch.tensor([[1,2], [3,4]])\n",
    "b = torch.tensor([[5,6], [7,8]])\n",
    "c = torch.stack([a,b]) # 동일한 형식 텐서를 새롭게 그룹화 : 새로운 차원 생성\n",
    "print(c)\n",
    "print(c.ndim)\n",
    "print(c.shape)"
   ]
  },
  {
   "cell_type": "code",
   "execution_count": 42,
   "metadata": {},
   "outputs": [
    {
     "name": "stdout",
     "output_type": "stream",
     "text": [
      "tensor([[1, 2, 5, 6],\n",
      "        [3, 4, 7, 8]])\n",
      "2\n",
      "torch.Size([2, 4])\n"
     ]
    }
   ],
   "source": [
    "a = torch.tensor([[1,2], [3,4]])\n",
    "b = torch.tensor([[5,6], [7,8]])\n",
    "c = torch.cat((a,b), dim = 1) # dim = 결합 기준 축 0:행 1:열\n",
    "print(c)\n",
    "print(c.ndim)\n",
    "print(c.shape)"
   ]
  },
  {
   "cell_type": "code",
   "execution_count": 39,
   "metadata": {},
   "outputs": [
    {
     "name": "stdout",
     "output_type": "stream",
     "text": [
      "tensor([[0.6836, 0.2736, 0.4319, 0.6393, 0.5044, 0.5940],\n",
      "        [0.9563, 0.7897, 0.2779, 0.8208, 0.5117, 0.3578],\n",
      "        [0.1533, 0.6663, 0.3018, 0.9869, 0.1855, 0.5997]])\n",
      "tensor([[0.6836, 0.2736],\n",
      "        [0.9563, 0.7897],\n",
      "        [0.1533, 0.6663]]) tensor([[0.4319, 0.6393],\n",
      "        [0.2779, 0.8208],\n",
      "        [0.3018, 0.9869]]) tensor([[0.5044, 0.5940],\n",
      "        [0.5117, 0.3578],\n",
      "        [0.1855, 0.5997]])\n"
     ]
    }
   ],
   "source": [
    "a = torch.rand(3,6)\n",
    "print(a)\n",
    "\n",
    "t1, t2, t3 = torch.chunk(a, 3, dim=1)\n",
    "print(t1, t2, t3)"
   ]
  },
  {
   "cell_type": "code",
   "execution_count": 51,
   "metadata": {},
   "outputs": [
    {
     "name": "stdout",
     "output_type": "stream",
     "text": [
      "(tensor([1, 2]), tensor([3, 4]), tensor([5, 6]))\n",
      "(tensor([1]), tensor([2]), tensor([3, 4, 5]))\n"
     ]
    }
   ],
   "source": [
    "x = torch.tensor([1, 2, 3, 4, 5, 6])\n",
    "\n",
    "result_x = torch.split(x, split_size_or_sections=2, dim=0)\n",
    "print(result_x)\n",
    "\n",
    "y = torch.tensor([1, 2, 3, 4, 5])\n",
    "\n",
    "result_y = torch.split(y, split_size_or_sections=[1, 1, 3], dim=0)\n",
    "print(result_y)"
   ]
  }
 ],
 "metadata": {
  "kernelspec": {
   "display_name": "pytorch_env",
   "language": "python",
   "name": "python3"
  },
  "language_info": {
   "codemirror_mode": {
    "name": "ipython",
    "version": 3
   },
   "file_extension": ".py",
   "mimetype": "text/x-python",
   "name": "python",
   "nbconvert_exporter": "python",
   "pygments_lexer": "ipython3",
   "version": "3.12.8"
  }
 },
 "nbformat": 4,
 "nbformat_minor": 2
}
