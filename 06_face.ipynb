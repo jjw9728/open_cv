{
 "cells": [
  {
   "cell_type": "code",
   "execution_count": 1,
   "metadata": {},
   "outputs": [],
   "source": [
    "import cv2 as cv\n",
    "siu = \"images/BB.jpg\""
   ]
  },
  {
   "cell_type": "markdown",
   "metadata": {},
   "source": [
    "## 사진에서 얼굴 찾기"
   ]
  },
  {
   "cell_type": "code",
   "execution_count": 5,
   "metadata": {},
   "outputs": [],
   "source": [
    "img = cv.imread(siu)\n",
    "# img = cv.resize(img, (600, 600))\n",
    "img_gray = cv.cvtColor(img, cv.COLOR_BGR2GRAY)\n",
    "face_cascade = cv.CascadeClassifier(cv.data.haarcascades +\n",
    "                                    'haarcascade_frontalface_default.xml')\n",
    "eye_cascade= cv.CascadeClassifier(cv.data.haarcascades +\n",
    "                                    'haarcascade_eye.xml')\n",
    "\n",
    "faces = face_cascade.detectMultiScale(img_gray, scaleFactor=1.1, minNeighbors=15, minSize=(20,20))\n",
    "eyes = eye_cascade.detectMultiScale(img_gray, scaleFactor=1.1, minNeighbors=6, minSize=(20,20))\n",
    "\n",
    "for (x, y, w, h) in faces:\n",
    "    img = cv.rectangle(img, (x, y), (x + w, y + h), (255, 0, 0), 2)\n",
    "\n",
    "for (x, y, w, h) in eyes:\n",
    "    img = cv.rectangle(img, (x, y), (x + w, y + h), (0, 0, 255), 2)\n",
    "\n",
    "cv.imshow(\"GOAT\", img)\n",
    "cv.waitKey(0)\n",
    "cv.destroyAllWindows()"
   ]
  },
  {
   "cell_type": "markdown",
   "metadata": {},
   "source": [
    "## 캠에서 얼굴 찾기\n"
   ]
  },
  {
   "cell_type": "code",
   "execution_count": 7,
   "metadata": {},
   "outputs": [],
   "source": [
    "import cv2 as cv\n",
    "\n",
    "face_cascade = cv.CascadeClassifier(cv.data.haarcascades + \n",
    "                                    'haarcascade_frontalface_default.xml')\n",
    "eye_cascade= cv.CascadeClassifier(cv.data.haarcascades +\n",
    "                                    'haarcascade_eye.xml')\n",
    "cap = cv.VideoCapture(0)\n",
    "\n",
    "if not cap.isOpened():\n",
    "    exit()\n",
    "\n",
    "while True:\n",
    "    ret, frame = cap.read()\n",
    "    \n",
    "    if not ret:\n",
    "        break\n",
    "    \n",
    "    gray = cv.cvtColor(frame, cv.COLOR_BGR2GRAY)\n",
    "    faces = face_cascade.detectMultiScale(gray, scaleFactor=1.1, minNeighbors=6, minSize=(20,20))\n",
    "    eyes = eye_cascade.detectMultiScale(gray, scaleFactor=1.1, minNeighbors=6, minSize=(20,20))\n",
    "    for (x, y, w, h) in faces:\n",
    "        cv.rectangle(frame, (x, y), (x + w, y + h), (255, 0, 0), 2)\n",
    "\n",
    "    for (x, y, w, h) in eyes:\n",
    "        cv.rectangle(frame, (x, y), (x + w, y + h), (0, 0, 255), 2)\n",
    "\n",
    "       \n",
    "\n",
    "    cv.imshow('WOW', frame)\n",
    "\n",
    "    if cv.waitKey(1) != -1:\n",
    "        break\n",
    "\n",
    "cap.release()\n",
    "cv.destroyAllWindows()\n"
   ]
  }
 ],
 "metadata": {
  "kernelspec": {
   "display_name": "cv_my",
   "language": "python",
   "name": "python3"
  },
  "language_info": {
   "codemirror_mode": {
    "name": "ipython",
    "version": 3
   },
   "file_extension": ".py",
   "mimetype": "text/x-python",
   "name": "python",
   "nbconvert_exporter": "python",
   "pygments_lexer": "ipython3",
   "version": "3.13.1"
  }
 },
 "nbformat": 4,
 "nbformat_minor": 2
}
