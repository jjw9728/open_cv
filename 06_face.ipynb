{
 "cells": [
  {
   "cell_type": "code",
   "execution_count": 27,
   "metadata": {},
   "outputs": [],
   "source": [
    "import cv2 as cv\n",
    "siu = \"images/BB.jpg\""
   ]
  },
  {
   "cell_type": "markdown",
   "metadata": {},
   "source": [
    "## 사진에서 얼굴 찾기"
   ]
  },
  {
   "cell_type": "code",
   "execution_count": 3,
   "metadata": {},
   "outputs": [],
   "source": [
    "img = cv.imread(siu)\n",
    "# img = cv.resize(img, (600, 600))\n",
    "img_gray = cv.cvtColor(img, cv.COLOR_BGR2GRAY)\n",
    "face_cascade = cv.CascadeClassifier(cv.data.haarcascades +\n",
    "                                    'haarcascade_frontalface_default.xml')\n",
    "eye_cascade= cv.CascadeClassifier(cv.data.haarcascades +\n",
    "                                    'haarcascade_eye.xml')\n",
    "\n",
    "faces = face_cascade.detectMultiScale(img_gray, scaleFactor=1.1, minNeighbors=15, minSize=(20,20))\n",
    "eyes = eye_cascade.detectMultiScale(img_gray, scaleFactor=1.1, minNeighbors=6, minSize=(20,20))\n",
    "\n",
    "for (x, y, w, h) in faces:\n",
    "    img = cv.rectangle(img, (x, y), (x + w, y + h), (255, 0, 0), 2)\n",
    "\n",
    "for (x, y, w, h) in eyes:\n",
    "    img = cv.rectangle(img, (x, y), (x + w, y + h), (0, 0, 255), 2)\n",
    "\n",
    "cv.imshow(\"GOAT\", img)\n",
    "cv.waitKey(0)\n",
    "cv.destroyAllWindows()"
   ]
  },
  {
   "cell_type": "markdown",
   "metadata": {},
   "source": [
    "## 캠에서 얼굴 찾기\n"
   ]
  },
  {
   "cell_type": "code",
   "execution_count": 24,
   "metadata": {},
   "outputs": [],
   "source": [
    "import cv2 as cv\n",
    "\n",
    "face_cascade = cv.CascadeClassifier(cv.data.haarcascades + \n",
    "                                    'haarcascade_frontalface_default.xml')\n",
    "eye_cascade= cv.CascadeClassifier(cv.data.haarcascades +\n",
    "                                    'haarcascade_eye.xml')\n",
    "cap = cv.VideoCapture(0)\n",
    "if not cap.isOpened():\n",
    "    exit()\n",
    "\n",
    "while True:\n",
    "    ret, frame = cap.read()\n",
    "    \n",
    "    if not ret:\n",
    "        break\n",
    "    \n",
    "    gray = cv.cvtColor(frame, cv.COLOR_BGR2GRAY)\n",
    "    \n",
    "    faces, weights_00 = face_cascade.detectMultiScale2(gray, scaleFactor=1.1, minNeighbors=7, \n",
    "                                          minSize=(20,20))\n",
    "    eyes, weights_01 = eye_cascade.detectMultiScale2(gray, scaleFactor=1.1, minNeighbors=7, \n",
    "                                        minSize=(20,20))\n",
    "    for i, (x, y, w, h) in enumerate(faces):\n",
    "        cv.rectangle(frame, (x, y), (x + w, y + h), (255, 0, 0), 2)\n",
    "        cv.putText(frame, f\"My face:{weights_00[i]}\", (x, y-10), cv.FONT_HERSHEY_SIMPLEX, 0.7,\n",
    "                   (255, 0, 0), 2)\n",
    "\n",
    "    for i, (x, y, w, h) in enumerate(eyes):\n",
    "        cv.rectangle(frame, (x, y), (x + w, y + h), (0, 0, 255), 2)\n",
    "        cv.putText(frame, f\"My eyes:{weights_01[i]}\", (x, y-10), cv.FONT_HERSHEY_SIMPLEX, 0.7, \n",
    "                   (0, 0, 255), 2)       \n",
    "\n",
    "    cv.imshow(\"Cam\", frame)\n",
    "\n",
    "    if cv.waitKey(1) != -1:\n",
    "        break\n",
    "\n",
    "cap.release()\n",
    "cv.destroyAllWindows()\n"
   ]
  },
  {
   "cell_type": "code",
   "execution_count": 16,
   "metadata": {},
   "outputs": [],
   "source": [
    "cap = cv.VideoCapture(\"images/body.mp4\")\n",
    "fps = cap.get(cv.CAP_PROP_FPS)\n",
    "face_cascade = cv.CascadeClassifier(cv.data.haarcascades + \n",
    "                                    'haarcascade_fullbody.xml')\n",
    "while cap.isOpened():  \n",
    "    ret, frame = cap.read()\n",
    "    \n",
    "    if not ret:\n",
    "        break\n",
    "    frame = cv.resize(frame, (800, 600))\n",
    "    gray = cv.cvtColor(frame, cv.COLOR_BGR2GRAY)\n",
    "       \n",
    "    faces = face_cascade.detectMultiScale(gray, scaleFactor=1.1, minNeighbors=10, minSize=(50,50))\n",
    "    for (x, y, w, h) in faces:\n",
    "            cv.rectangle(frame, (x, y), (x + w, y + h), (255, 0, 0), 2)\n",
    "    cv.imshow(\"Video\", frame)\n",
    "\n",
    "    if cv.waitKey(int(1000 / fps)) == ord(\"q\"):\n",
    "        break\n",
    "\n",
    "cap.release()\n",
    "cv.destroyAllWindows()"
   ]
  },
  {
   "cell_type": "code",
   "execution_count": 41,
   "metadata": {},
   "outputs": [],
   "source": [
    "import cv2 as cv\n",
    "\n",
    "cap = cv.VideoCapture(\"images/video2.mp4\")\n",
    "fps = cap.get(cv.CAP_PROP_FPS)\n",
    "face_cascade = cv.CascadeClassifier(cv.data.haarcascades + 'haarcascade_frontalface_default.xml')\n",
    "\n",
    "cv.namedWindow(\"Video\")\n",
    "cv.createTrackbar(\"Scale Factor (x10)\", \"Video\", 11, 20, lambda x:x) \n",
    "cv.createTrackbar(\"Min Neighbors\", \"Video\", 7, 20, lambda x:x)      \n",
    "while cap.isOpened():  \n",
    "    ret, frame = cap.read()\n",
    "    if not ret:\n",
    "        break\n",
    "\n",
    "    frame = cv.resize(frame, (800, 600))\n",
    "    gray = cv.cvtColor(frame, cv.COLOR_BGR2GRAY)\n",
    "  \n",
    "    scale_factor = cv.getTrackbarPos(\"Scale Factor (x10)\", \"Video\") / 10  \n",
    "    min_neighbors = cv.getTrackbarPos(\"Min Neighbors\", \"Video\")\n",
    "   \n",
    "    faces = face_cascade.detectMultiScale(\n",
    "        gray, scaleFactor=scale_factor, minNeighbors=min_neighbors, minSize=(20, 20)\n",
    "    )\n",
    "  \n",
    "    for (x, y, w, h) in faces:\n",
    "        cv.rectangle(frame, (x, y), (x + w, y + h), (255, 0, 0), 2)\n",
    "   \n",
    "    cv.imshow(\"Video\", frame)\n",
    "\n",
    "    if cv.waitKey(int(1000 / fps)) == ord(\"q\"):\n",
    "        break\n",
    "\n",
    "cap.release()\n",
    "cv.destroyAllWindows()\n"
   ]
  },
  {
   "cell_type": "code",
   "execution_count": 26,
   "metadata": {},
   "outputs": [
    {
     "name": "stdout",
     "output_type": "stream",
     "text": [
      "[(1, 4), (2, 5), (3, 6)]\n"
     ]
    }
   ],
   "source": [
    "list1 = [1,2,3]\n",
    "list2 = [4,5,6]\n",
    "print(list(zip(list1, list2)))\n"
   ]
  },
  {
   "cell_type": "code",
   "execution_count": 28,
   "metadata": {},
   "outputs": [],
   "source": [
    "img = cv.imread(siu)\n",
    "left_eye = cv.imread(\"images/left_eye.jpg\")\n",
    "right_eye = cv.imread(\"images/right_eye.jpg\")\n",
    "img = cv.resize(img, (600, 600))\n",
    "img_gray = cv.cvtColor(img, cv.COLOR_BGR2GRAY)\n",
    "\n",
    "eye_cascade= cv.CascadeClassifier(cv.data.haarcascades +\n",
    "                                    'haarcascade_eye.xml')\n",
    "eyes = eye_cascade.detectMultiScale(img_gray, scaleFactor=1.1, minNeighbors=6, minSize=(20,20))\n",
    "\n",
    "for i, (x, y, w, h) in enumerate(eyes):\n",
    "    img = cv.rectangle(img, (x, y), (x + w, y + h), (0, 0, 255), 2)\n",
    "\n",
    "cv.imshow(\"GOAT\", img)\n",
    "cv.waitKey(0)\n",
    "cv.destroyAllWindows()"
   ]
  },
  {
   "cell_type": "code",
   "execution_count": 29,
   "metadata": {},
   "outputs": [
    {
     "ename": "error",
     "evalue": "OpenCV(4.10.0) D:\\a\\opencv-python\\opencv-python\\opencv\\modules\\core\\src\\arithm.cpp:661: error: (-209:Sizes of input arguments do not match) The operation is neither 'array op array' (where arrays have the same size and the same number of channels), nor 'array op scalar', nor 'scalar op array' in function 'cv::arithm_op'\n",
     "output_type": "error",
     "traceback": [
      "\u001b[1;31m---------------------------------------------------------------------------\u001b[0m",
      "\u001b[1;31merror\u001b[0m                                     Traceback (most recent call last)",
      "Cell \u001b[1;32mIn[29], line 19\u001b[0m\n\u001b[0;32m     16\u001b[0m         right_eye \u001b[38;5;241m=\u001b[39m cv\u001b[38;5;241m.\u001b[39mresize(right_eye, (w, h))\n\u001b[0;32m     18\u001b[0m     roi \u001b[38;5;241m=\u001b[39m img[y:y \u001b[38;5;241m+\u001b[39m h, x:x \u001b[38;5;241m+\u001b[39m w]\n\u001b[1;32m---> 19\u001b[0m     blended_eye \u001b[38;5;241m=\u001b[39m \u001b[43mcv\u001b[49m\u001b[38;5;241;43m.\u001b[39;49m\u001b[43maddWeighted\u001b[49m\u001b[43m(\u001b[49m\u001b[43mroi\u001b[49m\u001b[43m,\u001b[49m\u001b[43m \u001b[49m\u001b[38;5;241;43m0.5\u001b[39;49m\u001b[43m,\u001b[49m\u001b[43m \u001b[49m\u001b[43mleft_eye\u001b[49m\u001b[43m,\u001b[49m\u001b[43m \u001b[49m\u001b[38;5;241;43m0.5\u001b[39;49m\u001b[43m,\u001b[49m\u001b[43m \u001b[49m\u001b[38;5;241;43m0\u001b[39;49m\u001b[43m)\u001b[49m\n\u001b[0;32m     20\u001b[0m     img[y:y \u001b[38;5;241m+\u001b[39m h, x:x \u001b[38;5;241m+\u001b[39m w] \u001b[38;5;241m=\u001b[39m blended_eye\n\u001b[0;32m     22\u001b[0m \u001b[38;5;66;03m# 결과 이미지 표시\u001b[39;00m\n",
      "\u001b[1;31merror\u001b[0m: OpenCV(4.10.0) D:\\a\\opencv-python\\opencv-python\\opencv\\modules\\core\\src\\arithm.cpp:661: error: (-209:Sizes of input arguments do not match) The operation is neither 'array op array' (where arrays have the same size and the same number of channels), nor 'array op scalar', nor 'scalar op array' in function 'cv::arithm_op'\n"
     ]
    }
   ],
   "source": [
    "import cv2 as cv\n",
    "\n",
    "img = cv.imread(siu) \n",
    "left_eye = cv.imread(\"images/left_eye.jpg\")\n",
    "right_eye = cv.imread(\"images/right_eye.jpg\")\n",
    "img = cv.resize(img, (600, 600))\n",
    "img_gray = cv.cvtColor(img, cv.COLOR_BGR2GRAY)\n",
    "\n",
    "eye_cascade = cv.CascadeClassifier(cv.data.haarcascades + 'haarcascade_eye.xml')\n",
    "eyes = eye_cascade.detectMultiScale(img_gray, scaleFactor=1.1, minNeighbors=6, minSize=(20, 20))\n",
    "\n",
    "for i, (x, y, w, h) in enumerate(eyes):\n",
    "    if i % 2 == 1:\n",
    "        left_eye = cv.resize(left_eye, (w, h))\n",
    "    else:\n",
    "        right_eye = cv.resize(right_eye, (w, h))\n",
    "\n",
    "    roi = img[y:y + h, x:x + w]\n",
    "    blended_eye = cv.addWeighted(roi, 0.5, left_eye, 0.5, 0)\n",
    "    img[y:y + h, x:x + w] = blended_eye\n",
    "\n",
    "# 결과 이미지 표시\n",
    "cv.imshow(\"GOAT\", img)\n",
    "cv.waitKey(0)\n",
    "cv.destroyAllWindows()"
   ]
  },
  {
   "cell_type": "code",
   "execution_count": null,
   "metadata": {},
   "outputs": [],
   "source": [
    "import cv2 as cv\n",
    "\n",
    "img = cv.imread(siu)\n",
    "left_eye = cv.imread(\"images/left_eye.jpg\")\n",
    "right_eye = cv.imread(\"images/right_eye.jpg\")\n",
    "img = cv.resize(img, (600, 600))\n",
    "img_gray = cv.cvtColor(img, cv.COLOR_BGR2GRAY)\n",
    "\n",
    "eye_cascade = cv.CascadeClassifier(cv.data.haarcascades + 'haarcascade_eye.xml')\n",
    "eyes = eye_cascade.detectMultiScale(img_gray, scaleFactor=1.1, minNeighbors=6, minSize=(20, 20))\n",
    "\n",
    "for i, (x, y, w, h) in enumerate(eyes):\n",
    "    if i % 2 == 0:\n",
    "        eye_img = right_eye\n",
    "    else:\n",
    "        eye_img = left_eye\n",
    "\n",
    "    eye_img = cv.resize(eye_img, (w, h))\n",
    "    img[y:y + h, x:x + w] = eye_img\n",
    "   \n",
    "cv.imshow(\"GOAT\", img)\n",
    "cv.waitKey(0)\n",
    "cv.destroyAllWindows()\n"
   ]
  },
  {
   "cell_type": "code",
   "execution_count": 63,
   "metadata": {},
   "outputs": [],
   "source": [
    "import cv2 as cv\n",
    "\n",
    "cap = cv.VideoCapture(0)\n",
    "left_eye = cv.imread(\"images/jw.jpg\")\n",
    "\n",
    "fps = cap.get(cv.CAP_PROP_FPS)\n",
    "\n",
    "eye_cascade = cv.CascadeClassifier(cv.data.haarcascades + 'haarcascade_frontalface_default.xml')\n",
    "   \n",
    "while cap.isOpened():  \n",
    "    ret, frame = cap.read()\n",
    "    if not ret:\n",
    "        break\n",
    "\n",
    "    # frame = cv.resize(frame, (600, 800))\n",
    "    gray = cv.cvtColor(frame, cv.COLOR_BGR2GRAY)\n",
    "\n",
    "    eyes = eye_cascade.detectMultiScale(gray, scaleFactor=1.1, \n",
    "                                    minNeighbors=10, minSize=(20, 20)) \n",
    "  \n",
    "    for i, (x, y, w, h) in enumerate(eyes):\n",
    "        \n",
    "        eye_img = left_eye\n",
    "\n",
    "        eye_img = cv.resize(eye_img, (w, h))\n",
    "        frame[y:y + h, x:x + w] = eye_img\n",
    "        # print(i, (x, y, w, h))\n",
    "        \n",
    "    cv.imshow(\"Video\", frame)\n",
    "\n",
    "    if cv.waitKey(int(1000 / fps)) == ord(\"q\"):\n",
    "        break\n",
    "\n",
    "cap.release()\n",
    "cv.destroyAllWindows()\n"
   ]
  }
 ],
 "metadata": {
  "kernelspec": {
   "display_name": "cv_my",
   "language": "python",
   "name": "python3"
  },
  "language_info": {
   "codemirror_mode": {
    "name": "ipython",
    "version": 3
   },
   "file_extension": ".py",
   "mimetype": "text/x-python",
   "name": "python",
   "nbconvert_exporter": "python",
   "pygments_lexer": "ipython3",
   "version": "3.13.1"
  }
 },
 "nbformat": 4,
 "nbformat_minor": 2
}
